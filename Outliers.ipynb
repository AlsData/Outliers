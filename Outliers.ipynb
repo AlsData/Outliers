{
 "cells": [
  {
   "cell_type": "markdown",
   "id": "599965a7",
   "metadata": {},
   "source": [
    "Detecting outliers"
   ]
  },
  {
   "cell_type": "markdown",
   "id": "3017184c",
   "metadata": {},
   "source": [
    "Outliers could be <br>\n",
    "1. Data entry error: e.g. human error during data entry <br>\n",
    "2. Genuine data deviation: e.g. The ticket sale during festive season is significantly higher than the past few weeks."
   ]
  },
  {
   "cell_type": "markdown",
   "id": "2d65b7fd",
   "metadata": {},
   "source": [
    "Detecting outliers: <br>\n",
    "1. z-score method: look at the stdev. Anything beyond stdev is considered outliers. <br>\n",
    "2. Interquartile range method: if x<Q1-1.5*IQR or x>Q3+1.5*IQR, it's considered outliers. <br>\n",
    "3. Visualisation: boxplot or scatter plot"
   ]
  },
  {
   "cell_type": "markdown",
   "id": "c12af2ac",
   "metadata": {},
   "source": [
    "What to do with the outliers? <br>\n",
    "1. If it's data entry error, exclude the particulat datum <br>\n",
    "2. Data transformation; e.g. logarithmic or square root transformation, to mitigate the outliers effect. <br>\n",
    "3. Replace outliers with more reasonable values e.g. mean, median of the non-outliers"
   ]
  },
  {
   "cell_type": "markdown",
   "id": "8f5a9abb",
   "metadata": {},
   "source": [
    "# Activity"
   ]
  },
  {
   "cell_type": "code",
   "execution_count": 2,
   "id": "72c4019a",
   "metadata": {},
   "outputs": [],
   "source": [
    "import numpy as np\n",
    "import pandas as pd"
   ]
  },
  {
   "cell_type": "code",
   "execution_count": 3,
   "id": "2283b72f",
   "metadata": {},
   "outputs": [],
   "source": [
    "#Creating dataset \n",
    "np.random.seed(42)\n",
    "\n",
    "data = pd.DataFrame({\n",
    "    'Feature_A': np.random.normal(loc=50, scale=10, size=100),\n",
    "    'Feature_B': np.random.normal(loc=100, scale=20, size=100),\n",
    "})"
   ]
  },
  {
   "cell_type": "code",
   "execution_count": 4,
   "id": "aaa1610f",
   "metadata": {},
   "outputs": [],
   "source": [
    "#Adding outliers into the dataset\n",
    "data.iloc[5, 0] = 500\n",
    "data.iloc[20, 1] = 200\n",
    "data.iloc[35, 1] = 250"
   ]
  },
  {
   "cell_type": "markdown",
   "id": "4330651e",
   "metadata": {},
   "source": [
    "Removing outliers using z-score"
   ]
  },
  {
   "cell_type": "code",
   "execution_count": 5,
   "id": "38ffb0e4",
   "metadata": {},
   "outputs": [],
   "source": [
    "from scipy import stats"
   ]
  },
  {
   "cell_type": "code",
   "execution_count": 6,
   "id": "66566e00",
   "metadata": {},
   "outputs": [],
   "source": [
    "#Detect outliers\n",
    "\n",
    "def remove_outliers_zscore(data, threshold=3):\n",
    "    z_scores = np.abs(stats.zscore(data))\n",
    "    filtered_data = data[(z_scores < threshold).all(axis=1)]\n",
    "    return filtered_data"
   ]
  },
  {
   "cell_type": "code",
   "execution_count": 7,
   "id": "d194793d",
   "metadata": {},
   "outputs": [
    {
     "data": {
      "text/html": [
       "<div>\n",
       "<style scoped>\n",
       "    .dataframe tbody tr th:only-of-type {\n",
       "        vertical-align: middle;\n",
       "    }\n",
       "\n",
       "    .dataframe tbody tr th {\n",
       "        vertical-align: top;\n",
       "    }\n",
       "\n",
       "    .dataframe thead th {\n",
       "        text-align: right;\n",
       "    }\n",
       "</style>\n",
       "<table border=\"1\" class=\"dataframe\">\n",
       "  <thead>\n",
       "    <tr style=\"text-align: right;\">\n",
       "      <th></th>\n",
       "      <th>Feature_A</th>\n",
       "      <th>Feature_B</th>\n",
       "    </tr>\n",
       "  </thead>\n",
       "  <tbody>\n",
       "    <tr>\n",
       "      <th>0</th>\n",
       "      <td>54.967142</td>\n",
       "      <td>71.692585</td>\n",
       "    </tr>\n",
       "    <tr>\n",
       "      <th>1</th>\n",
       "      <td>48.617357</td>\n",
       "      <td>91.587094</td>\n",
       "    </tr>\n",
       "    <tr>\n",
       "      <th>2</th>\n",
       "      <td>56.476885</td>\n",
       "      <td>93.145710</td>\n",
       "    </tr>\n",
       "    <tr>\n",
       "      <th>3</th>\n",
       "      <td>65.230299</td>\n",
       "      <td>83.954455</td>\n",
       "    </tr>\n",
       "    <tr>\n",
       "      <th>4</th>\n",
       "      <td>47.658466</td>\n",
       "      <td>96.774286</td>\n",
       "    </tr>\n",
       "    <tr>\n",
       "      <th>...</th>\n",
       "      <td>...</td>\n",
       "      <td>...</td>\n",
       "    </tr>\n",
       "    <tr>\n",
       "      <th>95</th>\n",
       "      <td>35.364851</td>\n",
       "      <td>107.706348</td>\n",
       "    </tr>\n",
       "    <tr>\n",
       "      <th>96</th>\n",
       "      <td>52.961203</td>\n",
       "      <td>82.322851</td>\n",
       "    </tr>\n",
       "    <tr>\n",
       "      <th>97</th>\n",
       "      <td>52.610553</td>\n",
       "      <td>103.074502</td>\n",
       "    </tr>\n",
       "    <tr>\n",
       "      <th>98</th>\n",
       "      <td>50.051135</td>\n",
       "      <td>101.164174</td>\n",
       "    </tr>\n",
       "    <tr>\n",
       "      <th>99</th>\n",
       "      <td>47.654129</td>\n",
       "      <td>77.140594</td>\n",
       "    </tr>\n",
       "  </tbody>\n",
       "</table>\n",
       "<p>97 rows × 2 columns</p>\n",
       "</div>"
      ],
      "text/plain": [
       "    Feature_A   Feature_B\n",
       "0   54.967142   71.692585\n",
       "1   48.617357   91.587094\n",
       "2   56.476885   93.145710\n",
       "3   65.230299   83.954455\n",
       "4   47.658466   96.774286\n",
       "..        ...         ...\n",
       "95  35.364851  107.706348\n",
       "96  52.961203   82.322851\n",
       "97  52.610553  103.074502\n",
       "98  50.051135  101.164174\n",
       "99  47.654129   77.140594\n",
       "\n",
       "[97 rows x 2 columns]"
      ]
     },
     "execution_count": 7,
     "metadata": {},
     "output_type": "execute_result"
    }
   ],
   "source": [
    "#Remove outliers\n",
    "\n",
    "filtered_data = remove_outliers_zscore(data)\n",
    "filtered_data"
   ]
  },
  {
   "cell_type": "markdown",
   "id": "cf9c14ab",
   "metadata": {},
   "source": [
    "IQR method"
   ]
  },
  {
   "cell_type": "code",
   "execution_count": 8,
   "id": "b734f798",
   "metadata": {},
   "outputs": [],
   "source": [
    "def remove_outliers_iqr(data, threshold_IQR=1.5):\n",
    "    Q1 = data.quantile(0.25)\n",
    "    Q3 = data.quantile(0.75)\n",
    "    IQR = Q3 - Q1\n",
    "    filtered_data_IQR = data[~((data < (Q1 - threshold_IQR*IQR))|(data > (Q3 + threshold_IQR*IQR))).any(axis=1)]\n",
    "    return filtered_data_IQR"
   ]
  },
  {
   "cell_type": "code",
   "execution_count": 9,
   "id": "10e936b0",
   "metadata": {},
   "outputs": [
    {
     "data": {
      "text/html": [
       "<div>\n",
       "<style scoped>\n",
       "    .dataframe tbody tr th:only-of-type {\n",
       "        vertical-align: middle;\n",
       "    }\n",
       "\n",
       "    .dataframe tbody tr th {\n",
       "        vertical-align: top;\n",
       "    }\n",
       "\n",
       "    .dataframe thead th {\n",
       "        text-align: right;\n",
       "    }\n",
       "</style>\n",
       "<table border=\"1\" class=\"dataframe\">\n",
       "  <thead>\n",
       "    <tr style=\"text-align: right;\">\n",
       "      <th></th>\n",
       "      <th>Feature_A</th>\n",
       "      <th>Feature_B</th>\n",
       "    </tr>\n",
       "  </thead>\n",
       "  <tbody>\n",
       "    <tr>\n",
       "      <th>0</th>\n",
       "      <td>54.967142</td>\n",
       "      <td>71.692585</td>\n",
       "    </tr>\n",
       "    <tr>\n",
       "      <th>1</th>\n",
       "      <td>48.617357</td>\n",
       "      <td>91.587094</td>\n",
       "    </tr>\n",
       "    <tr>\n",
       "      <th>2</th>\n",
       "      <td>56.476885</td>\n",
       "      <td>93.145710</td>\n",
       "    </tr>\n",
       "    <tr>\n",
       "      <th>3</th>\n",
       "      <td>65.230299</td>\n",
       "      <td>83.954455</td>\n",
       "    </tr>\n",
       "    <tr>\n",
       "      <th>4</th>\n",
       "      <td>47.658466</td>\n",
       "      <td>96.774286</td>\n",
       "    </tr>\n",
       "    <tr>\n",
       "      <th>...</th>\n",
       "      <td>...</td>\n",
       "      <td>...</td>\n",
       "    </tr>\n",
       "    <tr>\n",
       "      <th>95</th>\n",
       "      <td>35.364851</td>\n",
       "      <td>107.706348</td>\n",
       "    </tr>\n",
       "    <tr>\n",
       "      <th>96</th>\n",
       "      <td>52.961203</td>\n",
       "      <td>82.322851</td>\n",
       "    </tr>\n",
       "    <tr>\n",
       "      <th>97</th>\n",
       "      <td>52.610553</td>\n",
       "      <td>103.074502</td>\n",
       "    </tr>\n",
       "    <tr>\n",
       "      <th>98</th>\n",
       "      <td>50.051135</td>\n",
       "      <td>101.164174</td>\n",
       "    </tr>\n",
       "    <tr>\n",
       "      <th>99</th>\n",
       "      <td>47.654129</td>\n",
       "      <td>77.140594</td>\n",
       "    </tr>\n",
       "  </tbody>\n",
       "</table>\n",
       "<p>95 rows × 2 columns</p>\n",
       "</div>"
      ],
      "text/plain": [
       "    Feature_A   Feature_B\n",
       "0   54.967142   71.692585\n",
       "1   48.617357   91.587094\n",
       "2   56.476885   93.145710\n",
       "3   65.230299   83.954455\n",
       "4   47.658466   96.774286\n",
       "..        ...         ...\n",
       "95  35.364851  107.706348\n",
       "96  52.961203   82.322851\n",
       "97  52.610553  103.074502\n",
       "98  50.051135  101.164174\n",
       "99  47.654129   77.140594\n",
       "\n",
       "[95 rows x 2 columns]"
      ]
     },
     "execution_count": 9,
     "metadata": {},
     "output_type": "execute_result"
    }
   ],
   "source": [
    "filtered_data_IQR = remove_outliers_iqr(data)\n",
    "filtered_data_IQR"
   ]
  },
  {
   "cell_type": "markdown",
   "id": "0c2227b2",
   "metadata": {},
   "source": [
    "Alternate situation: Retaining outliers but replacing them with the median value"
   ]
  },
  {
   "cell_type": "code",
   "execution_count": 10,
   "id": "28990c5b",
   "metadata": {},
   "outputs": [],
   "source": [
    "# Define the function to replace outliers with the median\n",
    "def replace_outliers_with_median(data, threshold_3=1.5):\n",
    "    Q1 = data.quantile(0.25)\n",
    "    Q3 = data.quantile(0.75)\n",
    "    IQR = Q3 - Q1\n",
    "\n",
    "    # Calculate lower and upper boundary\n",
    "    lower_bound = Q1 - threshold_3 * IQR\n",
    "    upper_bound = Q3 + threshold_3 * IQR"
   ]
  },
  {
   "cell_type": "raw",
   "id": "fbe85aac",
   "metadata": {},
   "source": [
    "#Replace outliers with median value\n",
    "\n",
    "median_value = data.median()\n",
    "data_replaced = data.where(~((data < lower_bound) | (data > upper_bound)), median_value, axis-0)\n",
    "\n",
    "return data_replaced"
   ]
  },
  {
   "cell_type": "code",
   "execution_count": 13,
   "id": "f4fa1c35",
   "metadata": {},
   "outputs": [],
   "source": [
    "#Detect and replace outliers\n",
    "\n",
    "filtered_data = replace_outliers_with_median(data)\n",
    "filtered_data"
   ]
  },
  {
   "cell_type": "code",
   "execution_count": null,
   "id": "fe0dc554",
   "metadata": {},
   "outputs": [],
   "source": []
  }
 ],
 "metadata": {
  "kernelspec": {
   "display_name": "Python 3 (ipykernel)",
   "language": "python",
   "name": "python3"
  },
  "language_info": {
   "codemirror_mode": {
    "name": "ipython",
    "version": 3
   },
   "file_extension": ".py",
   "mimetype": "text/x-python",
   "name": "python",
   "nbconvert_exporter": "python",
   "pygments_lexer": "ipython3",
   "version": "3.11.5"
  }
 },
 "nbformat": 4,
 "nbformat_minor": 5
}
